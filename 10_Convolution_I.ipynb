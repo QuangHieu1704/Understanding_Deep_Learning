{
 "cells": [
  {
   "cell_type": "code",
   "execution_count": 4,
   "metadata": {},
   "outputs": [],
   "source": [
    "import numpy as np\n",
    "import torch\n",
    "import matplotlib.pyplot as plt"
   ]
  },
  {
   "cell_type": "code",
   "execution_count": 16,
   "metadata": {},
   "outputs": [],
   "source": [
    "def conv_pytorch(image, conv_weights, stride = 1, pad = 1):\n",
    "    image_tensor = torch.from_numpy(image)\n",
    "    conv_weights_tensor = torch.from_numpy(conv_weights)\n",
    "    output_tensor = torch.nn.functional.conv2d(image_tensor, conv_weights_tensor, stride = stride, padding = pad)\n",
    "\n",
    "    return output_tensor.numpy()"
   ]
  },
  {
   "cell_type": "code",
   "execution_count": 28,
   "metadata": {},
   "outputs": [
    {
     "name": "stdout",
     "output_type": "stream",
     "text": [
      "[[0 0 0 0 0 0 0]\n",
      " [0 0 0 0 0 0 0]\n",
      " [0 0 1 2 3 0 0]\n",
      " [0 0 0 0 0 0 0]\n",
      " [0 0 0 0 0 0 0]]\n"
     ]
    }
   ],
   "source": [
    "array = np.array([[1, 2, 3]])\n",
    "array = np.pad(array, ((2, 2), (2, 2)), \"constant\")\n",
    "print(array)"
   ]
  },
  {
   "cell_type": "code",
   "execution_count": 49,
   "metadata": {},
   "outputs": [],
   "source": [
    "def conv_numpy_1(image, weights, stride = 1, pad = 1):\n",
    "    \n",
    "    batch_size, channels_in, image_height, image_width = image.shape\n",
    "    channels_out, channels_in, kernel_height, kernel_width = weights.shape\n",
    "\n",
    "    out_height = (int)((image_height + 2 * pad - kernel_height) / stride + 1)\n",
    "    out_width = (int)((image_width + 2 * pad - kernel_width) / stride + 1)\n",
    "\n",
    "    if pad != 0:\n",
    "        image = np.pad(image, ((0, 0), (0, 0), (pad, pad), (pad, pad)), \"constant\")\n",
    "    \n",
    "    out = np.zeros((batch_size, channels_out, out_height, out_width))\n",
    "\n",
    "    for c_batch in range(batch_size):\n",
    "        for c_y in range(out_height):\n",
    "            for c_x in range(out_width):\n",
    "                for c_channel_out in range(channels_out):\n",
    "                    for c_channel_in in range(channels_in):\n",
    "                        for c_kernel_y in range(kernel_height):\n",
    "                            for c_kernel_x in range(kernel_width):\n",
    "\n",
    "                                out[c_batch, c_channel_out, c_y, c_x] += 0\n",
    "### new test 01\n",
    "\n",
    "    return out"
   ]
  },
  {
   "cell_type": "code",
   "execution_count": 50,
   "metadata": {},
   "outputs": [
    {
     "name": "stdout",
     "output_type": "stream",
     "text": [
      "Input shape:  (1, 1, 224, 224)\n",
      "Kernel shape:  (1, 1, 3, 3)\n",
      "Output shape:  (1, 1, 224, 224)\n",
      "Output pytorch shape:  (1, 1, 224, 224)\n"
     ]
    }
   ],
   "source": [
    "np.random.seed(42)\n",
    "n_batch = 1\n",
    "image_height = 224\n",
    "image_width = 224\n",
    "channels_in = 1\n",
    "kernel_size = 3\n",
    "channels_out = 1\n",
    "\n",
    "input_image = np.random.normal(size = (n_batch, channels_in, image_height, image_width))\n",
    "conv_weights = np.random.normal(size = (channels_out, channels_in, kernel_size, kernel_size))\n",
    "conv_results_pytorch = conv_pytorch(input_image, conv_weights, stride = 1, pad = 1)\n",
    "# plt.imshow(conv_results_pytorch.reshape((image_height, image_width, 1)))\n",
    "# plt.show()\n",
    "\n",
    "print(\"Input shape: \", input_image.shape)\n",
    "print(\"Kernel shape: \", conv_weights.shape)\n",
    "\n",
    "out = conv_numpy_1(input_image, conv_weights)\n",
    "print(\"Output shape: \", out.shape)\n",
    "print(\"Output pytorch shape: \", conv_results_pytorch.shape)"
   ]
  },
  {
   "cell_type": "code",
   "execution_count": null,
   "metadata": {},
   "outputs": [],
   "source": []
  }
 ],
 "metadata": {
  "kernelspec": {
   "display_name": "Python 3",
   "language": "python",
   "name": "python3"
  },
  "language_info": {
   "codemirror_mode": {
    "name": "ipython",
    "version": 3
   },
   "file_extension": ".py",
   "mimetype": "text/x-python",
   "name": "python",
   "nbconvert_exporter": "python",
   "pygments_lexer": "ipython3",
   "version": "3.8.10"
  },
  "orig_nbformat": 4
 },
 "nbformat": 4,
 "nbformat_minor": 2
}
