{
 "cells": [
  {
   "cell_type": "code",
   "execution_count": 4,
   "metadata": {},
   "outputs": [],
   "source": [
    "import numpy as np\n",
    "import torch\n",
    "import matplotlib.pyplot as plt"
   ]
  },
  {
   "cell_type": "code",
   "execution_count": 16,
   "metadata": {},
   "outputs": [],
   "source": [
    "def conv_pytorch(image, conv_weights, stride = 1, pad = 1):\n",
    "    image_tensor = torch.from_numpy(image)\n",
    "    conv_weights_tensor = torch.from_numpy(conv_weights)\n",
    "    output_tensor = torch.nn.functional.conv2d(image_tensor, conv_weights_tensor, stride = stride, padding = pad)\n",
    "\n",
    "    return output_tensor.numpy()"
   ]
  },
  {
   "cell_type": "code",
   "execution_count": 28,
   "metadata": {},
   "outputs": [
    {
     "name": "stdout",
     "output_type": "stream",
     "text": [
      "[[0 0 0 0 0 0 0]\n",
      " [0 0 0 0 0 0 0]\n",
      " [0 0 1 2 3 0 0]\n",
      " [0 0 0 0 0 0 0]\n",
      " [0 0 0 0 0 0 0]]\n"
     ]
    }
   ],
   "source": [
    "array = np.array([[1, 2, 3]])\n",
    "array = np.pad(array, ((2, 2), (2, 2)), \"constant\")\n",
    "print(array)"
   ]
  },
  {
   "cell_type": "code",
   "execution_count": 64,
   "metadata": {},
   "outputs": [],
   "source": [
    "def conv_numpy_1(image, weights, stride = 1, pad = 1):\n",
    "    \n",
    "    batch_size, channels_in, image_height, image_width = image.shape\n",
    "    channels_out, channels_in, kernel_height, kernel_width = weights.shape\n",
    "\n",
    "    out_height = (int)((image_height + 2 * pad - kernel_height) / stride + 1)\n",
    "    out_width = (int)((image_width + 2 * pad - kernel_width) / stride + 1)\n",
    "\n",
    "    if pad != 0:\n",
    "        image = np.pad(image, ((0, 0), (0, 0), (pad, pad), (pad, pad)), \"constant\")\n",
    "    \n",
    "    out = np.zeros((batch_size, channels_out, out_height, out_width))\n",
    "\n",
    "    # for c_batch in range(batch_size):\n",
    "    #     for c_y in range(out_height):\n",
    "    #         for c_x in range(out_width):\n",
    "    #             for c_channel_out in range(channels_out):\n",
    "    #                 for c_channel_in in range(channels_in):\n",
    "    #                     for c_kernel_y in range(kernel_height):\n",
    "    #                         for c_kernel_x in range(kernel_width):\n",
    "    #                             this_pixel_value = image[c_batch, c_channel_in, c_y + c_kernel_y - 2, c_x + c_kernel_x - 2]\n",
    "    #                             this_weight = weights[c_channel_out, c_channel_in, c_kernel_y, c_kernel_x]\n",
    "    #                             out[c_batch, c_channel_out, c_y, c_x] += this_pixel_value * this_weight\n",
    "\n",
    "    for c_batch in range(batch_size):\n",
    "        for c_channel_out in range(channels_out):\n",
    "            for c_y in range(out_height):\n",
    "                for c_x in range(out_width):\n",
    "                    pass\n",
    "    return out"
   ]
  },
  {
   "cell_type": "code",
   "execution_count": 68,
   "metadata": {},
   "outputs": [
    {
     "name": "stdout",
     "output_type": "stream",
     "text": [
      "Input shape:  (1, 1, 5, 5)\n",
      "Kernel shape:  (1, 1, 3, 3)\n",
      "Output shape:  (1, 1, 5, 5)\n",
      "Output pytorch shape:  (1, 1, 5, 5)\n"
     ]
    },
    {
     "data": {
      "image/png": "[encoded data removed]",
      "text/plain": [
       "<Figure size 640x480 with 1 Axes>"
      ]
     },
     "metadata": {},
     "output_type": "display_data"
    },
    {
     "data": {
      "image/png": "[encoded data removed]",
      "text/plain": [
       "<Figure size 640x480 with 1 Axes>"
      ]
     },
     "metadata": {},
     "output_type": "display_data"
    },
    {
     "name": "stdout",
     "output_type": "stream",
     "text": [
      "[[[[False False False False False]\n",
      "   [False False False False False]\n",
      "   [False False False False False]\n",
      "   [False False False False False]\n",
      "   [False False False False False]]]]\n",
      "Conv result pytorch:  [[[[-1.72888432 -1.91445925  2.38905445  0.16157407 -1.7234098 ]\n",
      "   [-1.00672463 -1.43223046  0.07924147 -0.12112561 -2.9584751 ]\n",
      "   [ 2.35707784 -2.64692978 -0.44399233  4.36811938 -0.68707156]\n",
      "   [ 1.35088385  3.66604794  1.10193287  3.22698318  0.09881557]\n",
      "   [-0.0249988   0.36635384  0.15800747  1.25197608  2.53938403]]]]\n",
      "Conv result numpy:  [[[[-0.06038434  0.55064134 -1.77177603  0.44781084 -0.63804329]\n",
      "   [-0.43371719 -0.52537999  0.1395394   0.23685173 -1.87577127]\n",
      "   [ 1.14561371 -0.05122697 -1.72888432 -1.91445925  2.38905445]\n",
      "   [-3.54688312  0.81765824 -1.00672463 -1.43223046  0.07924147]\n",
      "   [-1.51974478  0.78561436  2.35707784 -2.64692978 -0.44399233]]]]\n"
     ]
    }
   ],
   "source": [
    "np.random.seed(42)\n",
    "n_batch = 1\n",
    "image_height = 5\n",
    "image_width = 5\n",
    "channels_in = 1\n",
    "kernel_size = 3\n",
    "channels_out = 1\n",
    "\n",
    "input_image = np.random.normal(size = (n_batch, channels_in, image_height, image_width))\n",
    "conv_weights = np.random.normal(size = (channels_out, channels_in, kernel_size, kernel_size))\n",
    "conv_results_pytorch = conv_pytorch(input_image, conv_weights, stride = 1, pad = 1)\n",
    "\n",
    "print(\"Input shape: \", input_image.shape)\n",
    "print(\"Kernel shape: \", conv_weights.shape)\n",
    "\n",
    "conv_results_numpy = conv_numpy_1(input_image, conv_weights)\n",
    "print(\"Output shape: \", conv_results_numpy.shape)\n",
    "print(\"Output pytorch shape: \", conv_results_pytorch.shape)\n",
    "\n",
    "plt.imshow(conv_results_pytorch.reshape((image_height, image_width)))\n",
    "plt.show()\n",
    "\n",
    "plt.imshow(conv_results_numpy.reshape((image_height, image_width)))\n",
    "plt.show()\n",
    "\n",
    "comparision = conv_results_pytorch == conv_results_numpy\n",
    "print(comparision)\n",
    "print(\"Conv result pytorch: \", conv_results_pytorch)\n",
    "print(\"Conv result numpy: \", conv_results_numpy)"
   ]
  },
  {
   "cell_type": "code",
   "execution_count": null,
   "metadata": {},
   "outputs": [],
   "source": []
  }
 ],
 "metadata": {
  "kernelspec": {
   "display_name": "Python 3",
   "language": "python",
   "name": "python3"
  },
  "language_info": {
   "codemirror_mode": {
    "name": "ipython",
    "version": 3
   },
   "file_extension": ".py",
   "mimetype": "text/x-python",
   "name": "python",
   "nbconvert_exporter": "python",
   "pygments_lexer": "ipython3",
   "version": "3.8.10"
  },
  "orig_nbformat": 4
 },
 "nbformat": 4,
 "nbformat_minor": 2
}
